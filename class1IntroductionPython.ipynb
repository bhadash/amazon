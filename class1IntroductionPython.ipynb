{
 "cells": [
  {
   "cell_type": "code",
   "execution_count": 2,
   "id": "55e13541",
   "metadata": {},
   "outputs": [
    {
     "name": "stdout",
     "output_type": "stream",
     "text": [
      "ashish\n"
     ]
    }
   ],
   "source": [
    "# ashish printing\n",
    "## \n",
    "print('ashish')"
   ]
  },
  {
   "cell_type": "markdown",
   "id": "c467ea78",
   "metadata": {},
   "source": [
    "this is markdown cell......its not pythn code cell"
   ]
  },
  {
   "cell_type": "markdown",
   "id": "1e477fd5",
   "metadata": {},
   "source": [
    "1. ashish\n",
    "2. ashish"
   ]
  },
  {
   "cell_type": "markdown",
   "id": "ebf05cab",
   "metadata": {},
   "source": [
    " # ASH\n",
    " ## ASH\n",
    " ### ASH\n",
    " #### ASH\n",
    " ##### ASH\n",
    " **HELLO**\n",
    " "
   ]
  },
  {
   "cell_type": "markdown",
   "id": "550a41cf",
   "metadata": {},
   "source": [
    "* PT1\n",
    "* PT2"
   ]
  },
  {
   "cell_type": "markdown",
   "id": "a90fa9c6",
   "metadata": {},
   "source": []
  },
  {
   "cell_type": "code",
   "execution_count": null,
   "id": "1ccf59e0",
   "metadata": {},
   "outputs": [],
   "source": []
  }
 ],
 "metadata": {
  "kernelspec": {
   "display_name": "Python 3 (ipykernel)",
   "language": "python",
   "name": "python3"
  },
  "language_info": {
   "codemirror_mode": {
    "name": "ipython",
    "version": 3
   },
   "file_extension": ".py",
   "mimetype": "text/x-python",
   "name": "python",
   "nbconvert_exporter": "python",
   "pygments_lexer": "ipython3",
   "version": "3.9.7"
  }
 },
 "nbformat": 4,
 "nbformat_minor": 5
}
